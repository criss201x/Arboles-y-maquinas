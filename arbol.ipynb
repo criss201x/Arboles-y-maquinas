{
 "cells": [
  {
   "cell_type": "code",
   "execution_count": 1,
   "metadata": {},
   "outputs": [],
   "source": [
    "#Importar librerías\n",
    "import sklearn.datasets\n",
    "from sklearn.model_selection import train_test_split\n",
    "from sklearn.neighbors import KNeighborsClassifier"
   ]
  },
  {
   "cell_type": "code",
   "execution_count": 2,
   "metadata": {},
   "outputs": [
    {
     "name": "stdout",
     "output_type": "stream",
     "text": [
      "0.9736842105263158\n"
     ]
    }
   ],
   "source": [
    "#Tomar un conjunto de datos del repositorio de pruebas\n",
    "Conjunto_datos = sklearn.datasets.load_iris()\n",
    "#Tomar los predictores y datos a predecir\n",
    "X, y = Conjunto_datos['data'], Conjunto_datos['target']\n",
    "#Segmentar la cantidad de datos para crear conjuntos de etrenamiento y prueba\n",
    "X_Entrenamiento, X_Prueba, y_Entrenamiento, y_Prueba = train_test_split(X, y, train_size=0.75) \n",
    "#Entrenar y probar el clasificador\n",
    "Clasificador = KNeighborsClassifier(n_neighbors=3)\n",
    "Clasificador.fit(X_Entrenamiento, y_Entrenamiento)\n",
    "#Presentar el resultado\n",
    "print(Clasificador.score(X_Prueba, y_Prueba))\n"
   ]
  },
  {
   "cell_type": "code",
   "execution_count": 3,
   "metadata": {},
   "outputs": [],
   "source": [
    "from sklearn.model_selection import cross_val_score"
   ]
  },
  {
   "cell_type": "code",
   "execution_count": 4,
   "metadata": {},
   "outputs": [
    {
     "name": "stdout",
     "output_type": "stream",
     "text": [
      "[0.96666667 0.96666667 0.93333333 0.96666667 1.        ]\n",
      "Precisión: 0.97 (+/- 0.02)\n"
     ]
    }
   ],
   "source": [
    "Resultados = cross_val_score(Clasificador, X, y, cv=5)\n",
    "print(Resultados)\n",
    "print (\"Precisión: %0.2f (+/- %0.2f)\" % (Resultados.mean(), Resultados.std()))"
   ]
  },
  {
   "cell_type": "code",
   "execution_count": null,
   "metadata": {},
   "outputs": [],
   "source": []
  }
 ],
 "metadata": {
  "kernelspec": {
   "display_name": "Python 3",
   "language": "python",
   "name": "python3"
  },
  "language_info": {
   "codemirror_mode": {
    "name": "ipython",
    "version": 3
   },
   "file_extension": ".py",
   "mimetype": "text/x-python",
   "name": "python",
   "nbconvert_exporter": "python",
   "pygments_lexer": "ipython3",
   "version": "3.8.5"
  }
 },
 "nbformat": 4,
 "nbformat_minor": 4
}
